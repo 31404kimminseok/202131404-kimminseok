{
 "cells": [
  {
   "cell_type": "code",
   "execution_count": null,
   "metadata": {},
   "outputs": [],
   "source": [
    "def score():\n",
    "    Q = 0\n",
    "    W = int(input(\"주차 수: \"))\n",
    "    for E in range(1,W+1):\n",
    "        a = float(input(\"%d주차 과제의 점수: \"%(E)))\n",
    "        Q+=a\n",
    "   \n",
    "    M_test = int(input(\"중간고사 성적\"))\n",
    "    F_test = int(input(\"기말고사 성적\"))\n",
    "    \n",
    "\n",
    "\n",
    "    A = Q/W * 0.4                                         \n",
    "    M = M_test * 0.3\n",
    "    F = F_test * 0.3\n",
    "\n",
    "\n",
    "\n",
    "    total = A + M + F\n",
    "    if 100 >= total >= 90:\n",
    "        grade = \"A\"\n",
    "    elif 90 > total >= 80:\n",
    "        grade = \"B\"\n",
    "    elif 80 > total >= 70:\n",
    "        grade = \"C\"\n",
    "    elif 70 > total >= 60:\n",
    "        grade = \"D\"\n",
    "    elif total < 60:\n",
    "        grade = \"F\"\n",
    "    \n",
    "    \n",
    "    print(\"\\n총점이 %d점이므로\"%Q)\n",
    "    print(\"주차별 과제의 평균은 %.2f점입니다.\"%(Q/W))\n",
    "    print(\"과제 반영점수(40%)\" ,A , \"중간 반영점수(30%)\" , M, \"기말 반영점수(30%)\" , F)\n",
    "    print(\"성적은\" + grade + \"입니다.\")\n",
    "\n",
    "score()"
   ]
  },
  {
   "cell_type": "code",
   "execution_count": null,
   "metadata": {},
   "outputs": [],
   "source": []
  },
  {
   "cell_type": "code",
   "execution_count": null,
   "metadata": {},
   "outputs": [],
   "source": []
  }
 ],
 "metadata": {
  "kernelspec": {
   "display_name": "Python 3",
   "language": "python",
   "name": "python3"
  },
  "language_info": {
   "codemirror_mode": {
    "name": "ipython",
    "version": 3
   },
   "file_extension": ".py",
   "mimetype": "text/x-python",
   "name": "python",
   "nbconvert_exporter": "python",
   "pygments_lexer": "ipython3",
   "version": "3.8.5"
  }
 },
 "nbformat": 4,
 "nbformat_minor": 4
}
